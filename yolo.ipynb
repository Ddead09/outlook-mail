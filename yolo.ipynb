{
 "cells": [
  {
   "cell_type": "code",
   "execution_count": null,
   "id": "0f8067d5",
   "metadata": {},
   "outputs": [],
   "source": [
    "import win32com.client\n",
    "import pandas as pd\n",
    "table = file\n",
    "subject = 'Test mail(confidential)'\n",
    "body = '<html><body>'+ table.to_html() + '</body></html>'\n",
    "#body = '<html><body>' table '</body></html>'\n",
    "body2='Following mail contains Budgeted & Actual Revenue information'\n",
    "recipients = ['debanjan@ayanapower.com']\n",
    "for i in recipients:\n",
    "    attachments = []\n",
    "    olMailItem = 0x0\n",
    "    obj = win32com.client.Dispatch(\"Outlook.Application\")\n",
    "    newMail = obj.CreateItem(olMailItem)\n",
    "    newMail.Subject = subject\n",
    "    newMail.HTMLBody= body2\n",
    "    newMail.HTMLBody = body\n",
    "    newMail.To =i\n",
    "    print(i)  \n",
    "    for location in attachments:\n",
    "        newMail.Attachments.Add(Source=location)\n",
    "\n",
    "    newMail.display()\n",
    "    newMail.Send()"
   ]
  }
 ],
 "metadata": {
  "kernelspec": {
   "display_name": "Python 3 (ipykernel)",
   "language": "python",
   "name": "python3"
  },
  "language_info": {
   "codemirror_mode": {
    "name": "ipython",
    "version": 3
   },
   "file_extension": ".py",
   "mimetype": "text/x-python",
   "name": "python",
   "nbconvert_exporter": "python",
   "pygments_lexer": "ipython3",
   "version": "3.9.13"
  }
 },
 "nbformat": 4,
 "nbformat_minor": 5
}
